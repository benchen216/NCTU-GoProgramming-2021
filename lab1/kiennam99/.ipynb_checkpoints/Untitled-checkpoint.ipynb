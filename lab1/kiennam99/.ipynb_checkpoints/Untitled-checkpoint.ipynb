{
 "cells": [
  {
   "cell_type": "code",
   "execution_count": 9,
   "id": "c79ce925",
   "metadata": {},
   "outputs": [],
   "source": [
    "package main\n",
    "\n",
    "import (\n",
    "    \"fmt\"\n",
    "    \"os\"\n",
    ")\n",
    "\n",
    "func main() {\n",
    "// Please complete the code to make this program compiled without error.\n",
    "// Notice that you can only add code in this file.\n",
    "\n",
    "    fmt.Println(\"1) Add\")\n",
    "    fmt.Println(\"2) Sub\")\n",
    "    fmt.Println(\"3) Mul\")\n",
    "    fmt.Println(\"4) Div\")\n",
    "    \n",
    "    var action,a,b int\n",
    "    \n",
    "    fmt.Println(\"Please input your action: \")\n",
    "    fmt.Scanln(&action)\n",
    "    fmt.Println(action)\n",
    "    fmt.Println(\"Please input two numbers: \")\n",
    "    fmt.Scanln(&a, &b)\n",
    "    fmt.Println(a, b)\n",
    "\n",
    "    switch action {\n",
    "        case 1:\n",
    "            fmt.Println(Add(a, b))\n",
    "        case 2:\n",
    "            fmt.Println(Sub(a, b))\n",
    "        case 3:\n",
    "            fmt.Println(Mul(a, b))\n",
    "        case 4:\n",
    "            fmt.Println(Div(a, b))\n",
    "        default:\n",
    "            fmt.Println(\"Wrong input!!\")\n",
    "        }\n",
    "\n",
    "}\n",
    "\n",
    "func Add(a int,b int)(result int){\n",
    "    result = a+b\n",
    "    return \n",
    "}\n",
    "\n",
    "func Sub(a int,b int)(result int){\n",
    "    \n",
    "    result = a-b\n",
    "    return \n",
    "}\n",
    "\n",
    "func Mul(a int,b int)(result int){\n",
    "    result = a*b\n",
    "    return \n",
    "}\n",
    "\n",
    "func Div(a int,b int)(result int){\n",
    "    result = a/b\n",
    "    return \n",
    "}\n",
    "\n"
   ]
  },
  {
   "cell_type": "code",
   "execution_count": 10,
   "id": "8be90ae1",
   "metadata": {},
   "outputs": [
    {
     "name": "stdout",
     "output_type": "stream",
     "text": [
      "1) Add\n",
      "2) Sub\n",
      "3) Mul\n",
      "4) Div\n",
      "Please input your action: \n",
      "0\n",
      "Please input two numbers: \n",
      "0 0\n",
      "Wrong input!!\n"
     ]
    }
   ],
   "source": []
  },
  {
   "cell_type": "code",
   "execution_count": null,
   "id": "ffdcfd97",
   "metadata": {},
   "outputs": [],
   "source": []
  }
 ],
 "metadata": {
  "kernelspec": {
   "display_name": "Go",
   "language": "go",
   "name": "gophernotes"
  },
  "language_info": {
   "codemirror_mode": "",
   "file_extension": ".go",
   "mimetype": "",
   "name": "go",
   "nbconvert_exporter": "",
   "pygments_lexer": "",
   "version": "go1.17.1"
  }
 },
 "nbformat": 4,
 "nbformat_minor": 5
}
